{
  "cells": [
    {
      "cell_type": "markdown",
      "id": "7b5d3ee0",
      "metadata": {
        "id": "7b5d3ee0"
      },
      "source": [
        "# 🎯 Feature Engineering — Part A: Individual Concepts (Colab-Ready)\n",
        "\n",
        "**Updated:** 2025-08-22\n",
        "\n",
        "This notebook is designed for **first-time learners**. You will practice each feature engineering step **individually** (no pipelines yet), so you can clearly see *what each step does* and *why it matters*.\n",
        "\n",
        "**What you'll practice:**\n",
        "- Dataset loading & quick audit\n",
        "- Handling missing values (drop, impute)\n",
        "- Scaling & normalization (standardization, min-max, per-row normalization)\n",
        "- Encoding categorical variables (ordinal vs one-hot)\n",
        "- Feature transformations (log, power, polynomial)\n",
        "- Simple dimensionality reduction (PCA) for visualization\n",
        "- Short exercises after each section\n",
        "\n",
        "> Use this Part A first. After you are comfortable, move to **Part B (Pipelines)** to automate and combine steps."
      ]
    },
    {
      "cell_type": "markdown",
      "id": "04499a3f",
      "metadata": {
        "id": "04499a3f"
      },
      "source": [
        "## 0) Setup"
      ]
    },
    {
      "cell_type": "code",
      "execution_count": 1,
      "id": "d1cd58db",
      "metadata": {
        "id": "d1cd58db"
      },
      "outputs": [],
      "source": [
        "# If running in Google Colab, you can install optional packages here:\n",
        "# !pip install -q statsmodels==0.14.2\n",
        "\n",
        "import numpy as np\n",
        "import pandas as pd\n",
        "import matplotlib.pyplot as plt\n",
        "\n",
        "from sklearn.impute import SimpleImputer, KNNImputer\n",
        "from sklearn.preprocessing import StandardScaler, MinMaxScaler, Normalizer, OrdinalEncoder\n",
        "from sklearn.preprocessing import PolynomialFeatures, PowerTransformer\n",
        "from sklearn.decomposition import PCA\n",
        "from sklearn.metrics import mean_squared_error\n",
        "\n",
        "pd.set_option('display.max_columns', 100)"
      ]
    },
    {
      "cell_type": "markdown",
      "id": "3de06ce7",
      "metadata": {
        "id": "3de06ce7"
      },
      "source": [
        "## 1) Dataset Setup & Quick Audit"
      ]
    },
    {
      "cell_type": "code",
      "execution_count": 2,
      "id": "8fda59e9",
      "metadata": {
        "colab": {
          "base_uri": "https://localhost:8080/",
          "height": 223
        },
        "id": "8fda59e9",
        "outputId": "75a60a00-bbd7-4fc8-8e49-d2384feba930"
      },
      "outputs": [
        {
          "name": "stdout",
          "output_type": "stream",
          "text": [
            "Shape: (891, 12)\n"
          ]
        },
        {
          "data": {
            "text/html": [
              "<div>\n",
              "<style scoped>\n",
              "    .dataframe tbody tr th:only-of-type {\n",
              "        vertical-align: middle;\n",
              "    }\n",
              "\n",
              "    .dataframe tbody tr th {\n",
              "        vertical-align: top;\n",
              "    }\n",
              "\n",
              "    .dataframe thead th {\n",
              "        text-align: right;\n",
              "    }\n",
              "</style>\n",
              "<table border=\"1\" class=\"dataframe\">\n",
              "  <thead>\n",
              "    <tr style=\"text-align: right;\">\n",
              "      <th></th>\n",
              "      <th>PassengerId</th>\n",
              "      <th>Survived</th>\n",
              "      <th>Pclass</th>\n",
              "      <th>Name</th>\n",
              "      <th>Sex</th>\n",
              "      <th>Age</th>\n",
              "      <th>SibSp</th>\n",
              "      <th>Parch</th>\n",
              "      <th>Ticket</th>\n",
              "      <th>Fare</th>\n",
              "      <th>Cabin</th>\n",
              "      <th>Embarked</th>\n",
              "    </tr>\n",
              "  </thead>\n",
              "  <tbody>\n",
              "    <tr>\n",
              "      <th>0</th>\n",
              "      <td>1</td>\n",
              "      <td>0</td>\n",
              "      <td>3</td>\n",
              "      <td>Braund, Mr. Owen Harris</td>\n",
              "      <td>male</td>\n",
              "      <td>22.0</td>\n",
              "      <td>1</td>\n",
              "      <td>0</td>\n",
              "      <td>A/5 21171</td>\n",
              "      <td>7.2500</td>\n",
              "      <td>NaN</td>\n",
              "      <td>S</td>\n",
              "    </tr>\n",
              "    <tr>\n",
              "      <th>1</th>\n",
              "      <td>2</td>\n",
              "      <td>1</td>\n",
              "      <td>1</td>\n",
              "      <td>Cumings, Mrs. John Bradley (Florence Briggs Th...</td>\n",
              "      <td>female</td>\n",
              "      <td>38.0</td>\n",
              "      <td>1</td>\n",
              "      <td>0</td>\n",
              "      <td>PC 17599</td>\n",
              "      <td>71.2833</td>\n",
              "      <td>C85</td>\n",
              "      <td>C</td>\n",
              "    </tr>\n",
              "    <tr>\n",
              "      <th>2</th>\n",
              "      <td>3</td>\n",
              "      <td>1</td>\n",
              "      <td>3</td>\n",
              "      <td>Heikkinen, Miss. Laina</td>\n",
              "      <td>female</td>\n",
              "      <td>26.0</td>\n",
              "      <td>0</td>\n",
              "      <td>0</td>\n",
              "      <td>STON/O2. 3101282</td>\n",
              "      <td>7.9250</td>\n",
              "      <td>NaN</td>\n",
              "      <td>S</td>\n",
              "    </tr>\n",
              "    <tr>\n",
              "      <th>3</th>\n",
              "      <td>4</td>\n",
              "      <td>1</td>\n",
              "      <td>1</td>\n",
              "      <td>Futrelle, Mrs. Jacques Heath (Lily May Peel)</td>\n",
              "      <td>female</td>\n",
              "      <td>35.0</td>\n",
              "      <td>1</td>\n",
              "      <td>0</td>\n",
              "      <td>113803</td>\n",
              "      <td>53.1000</td>\n",
              "      <td>C123</td>\n",
              "      <td>S</td>\n",
              "    </tr>\n",
              "    <tr>\n",
              "      <th>4</th>\n",
              "      <td>5</td>\n",
              "      <td>0</td>\n",
              "      <td>3</td>\n",
              "      <td>Allen, Mr. William Henry</td>\n",
              "      <td>male</td>\n",
              "      <td>35.0</td>\n",
              "      <td>0</td>\n",
              "      <td>0</td>\n",
              "      <td>373450</td>\n",
              "      <td>8.0500</td>\n",
              "      <td>NaN</td>\n",
              "      <td>S</td>\n",
              "    </tr>\n",
              "  </tbody>\n",
              "</table>\n",
              "</div>"
            ],
            "text/plain": [
              "   PassengerId  Survived  Pclass  \\\n",
              "0            1         0       3   \n",
              "1            2         1       1   \n",
              "2            3         1       3   \n",
              "3            4         1       1   \n",
              "4            5         0       3   \n",
              "\n",
              "                                                Name     Sex   Age  SibSp  \\\n",
              "0                            Braund, Mr. Owen Harris    male  22.0      1   \n",
              "1  Cumings, Mrs. John Bradley (Florence Briggs Th...  female  38.0      1   \n",
              "2                             Heikkinen, Miss. Laina  female  26.0      0   \n",
              "3       Futrelle, Mrs. Jacques Heath (Lily May Peel)  female  35.0      1   \n",
              "4                           Allen, Mr. William Henry    male  35.0      0   \n",
              "\n",
              "   Parch            Ticket     Fare Cabin Embarked  \n",
              "0      0         A/5 21171   7.2500   NaN        S  \n",
              "1      0          PC 17599  71.2833   C85        C  \n",
              "2      0  STON/O2. 3101282   7.9250   NaN        S  \n",
              "3      0            113803  53.1000  C123        S  \n",
              "4      0            373450   8.0500   NaN        S  "
            ]
          },
          "execution_count": 2,
          "metadata": {},
          "output_type": "execute_result"
        }
      ],
      "source": [
        "# Option A: Load Titanic from a stable GitHub mirror (recommended for first run)\n",
        "URL = \"https://raw.githubusercontent.com/datasciencedojo/datasets/master/titanic.csv\"\n",
        "df = pd.read_csv(URL)\n",
        "print(\"Shape:\", df.shape)\n",
        "df.head()"
      ]
    },
    {
      "cell_type": "code",
      "execution_count": 5,
      "id": "bd6588cc",
      "metadata": {
        "colab": {
          "base_uri": "https://localhost:8080/",
          "height": 377
        },
        "id": "bd6588cc",
        "outputId": "9a495165-8ae3-440c-ae96-13b115e200e8"
      },
      "outputs": [
        {
          "name": "stdout",
          "output_type": "stream",
          "text": [
            "Shape: (891, 12)\n"
          ]
        },
        {
          "data": {
            "text/html": [
              "<div>\n",
              "<style scoped>\n",
              "    .dataframe tbody tr th:only-of-type {\n",
              "        vertical-align: middle;\n",
              "    }\n",
              "\n",
              "    .dataframe tbody tr th {\n",
              "        vertical-align: top;\n",
              "    }\n",
              "\n",
              "    .dataframe thead th {\n",
              "        text-align: right;\n",
              "    }\n",
              "</style>\n",
              "<table border=\"1\" class=\"dataframe\">\n",
              "  <thead>\n",
              "    <tr style=\"text-align: right;\">\n",
              "      <th></th>\n",
              "      <th>PassengerId</th>\n",
              "      <th>Survived</th>\n",
              "      <th>Pclass</th>\n",
              "      <th>Name</th>\n",
              "      <th>Sex</th>\n",
              "      <th>Age</th>\n",
              "      <th>SibSp</th>\n",
              "      <th>Parch</th>\n",
              "      <th>Ticket</th>\n",
              "      <th>Fare</th>\n",
              "      <th>Cabin</th>\n",
              "      <th>Embarked</th>\n",
              "    </tr>\n",
              "  </thead>\n",
              "  <tbody>\n",
              "    <tr>\n",
              "      <th>0</th>\n",
              "      <td>1</td>\n",
              "      <td>0</td>\n",
              "      <td>3</td>\n",
              "      <td>Braund, Mr. Owen Harris</td>\n",
              "      <td>male</td>\n",
              "      <td>22.0</td>\n",
              "      <td>1</td>\n",
              "      <td>0</td>\n",
              "      <td>A/5 21171</td>\n",
              "      <td>7.2500</td>\n",
              "      <td>NaN</td>\n",
              "      <td>S</td>\n",
              "    </tr>\n",
              "    <tr>\n",
              "      <th>1</th>\n",
              "      <td>2</td>\n",
              "      <td>1</td>\n",
              "      <td>1</td>\n",
              "      <td>Cumings, Mrs. John Bradley (Florence Briggs Th...</td>\n",
              "      <td>female</td>\n",
              "      <td>38.0</td>\n",
              "      <td>1</td>\n",
              "      <td>0</td>\n",
              "      <td>PC 17599</td>\n",
              "      <td>71.2833</td>\n",
              "      <td>C85</td>\n",
              "      <td>C</td>\n",
              "    </tr>\n",
              "    <tr>\n",
              "      <th>2</th>\n",
              "      <td>3</td>\n",
              "      <td>1</td>\n",
              "      <td>3</td>\n",
              "      <td>Heikkinen, Miss. Laina</td>\n",
              "      <td>female</td>\n",
              "      <td>26.0</td>\n",
              "      <td>0</td>\n",
              "      <td>0</td>\n",
              "      <td>STON/O2. 3101282</td>\n",
              "      <td>7.9250</td>\n",
              "      <td>NaN</td>\n",
              "      <td>S</td>\n",
              "    </tr>\n",
              "    <tr>\n",
              "      <th>3</th>\n",
              "      <td>4</td>\n",
              "      <td>1</td>\n",
              "      <td>1</td>\n",
              "      <td>Futrelle, Mrs. Jacques Heath (Lily May Peel)</td>\n",
              "      <td>female</td>\n",
              "      <td>35.0</td>\n",
              "      <td>1</td>\n",
              "      <td>0</td>\n",
              "      <td>113803</td>\n",
              "      <td>53.1000</td>\n",
              "      <td>C123</td>\n",
              "      <td>S</td>\n",
              "    </tr>\n",
              "    <tr>\n",
              "      <th>4</th>\n",
              "      <td>5</td>\n",
              "      <td>0</td>\n",
              "      <td>3</td>\n",
              "      <td>Allen, Mr. William Henry</td>\n",
              "      <td>male</td>\n",
              "      <td>35.0</td>\n",
              "      <td>0</td>\n",
              "      <td>0</td>\n",
              "      <td>373450</td>\n",
              "      <td>8.0500</td>\n",
              "      <td>NaN</td>\n",
              "      <td>S</td>\n",
              "    </tr>\n",
              "  </tbody>\n",
              "</table>\n",
              "</div>"
            ],
            "text/plain": [
              "   PassengerId  Survived  Pclass  \\\n",
              "0            1         0       3   \n",
              "1            2         1       1   \n",
              "2            3         1       3   \n",
              "3            4         1       1   \n",
              "4            5         0       3   \n",
              "\n",
              "                                                Name     Sex   Age  SibSp  \\\n",
              "0                            Braund, Mr. Owen Harris    male  22.0      1   \n",
              "1  Cumings, Mrs. John Bradley (Florence Briggs Th...  female  38.0      1   \n",
              "2                             Heikkinen, Miss. Laina  female  26.0      0   \n",
              "3       Futrelle, Mrs. Jacques Heath (Lily May Peel)  female  35.0      1   \n",
              "4                           Allen, Mr. William Henry    male  35.0      0   \n",
              "\n",
              "   Parch            Ticket     Fare Cabin Embarked  \n",
              "0      0         A/5 21171   7.2500   NaN        S  \n",
              "1      0          PC 17599  71.2833   C85        C  \n",
              "2      0  STON/O2. 3101282   7.9250   NaN        S  \n",
              "3      0            113803  53.1000  C123        S  \n",
              "4      0            373450   8.0500   NaN        S  "
            ]
          },
          "execution_count": 5,
          "metadata": {},
          "output_type": "execute_result"
        }
      ],
      "source": [
        "# The Titanic dataset is already loaded in variable 'df'\n",
        "print(\"Shape:\", df.shape)\n",
        "df.head()"
      ]
    },
    {
      "cell_type": "code",
      "execution_count": 6,
      "id": "1020b508",
      "metadata": {
        "colab": {
          "base_uri": "https://localhost:8080/",
          "height": 994
        },
        "id": "1020b508",
        "outputId": "a6a36d8c-12e5-4490-fb6e-a9463fa0f454"
      },
      "outputs": [
        {
          "name": "stdout",
          "output_type": "stream",
          "text": [
            "\n",
            "Info:\n",
            "<class 'pandas.core.frame.DataFrame'>\n",
            "RangeIndex: 891 entries, 0 to 890\n",
            "Data columns (total 12 columns):\n",
            " #   Column       Non-Null Count  Dtype  \n",
            "---  ------       --------------  -----  \n",
            " 0   PassengerId  891 non-null    int64  \n",
            " 1   Survived     891 non-null    int64  \n",
            " 2   Pclass       891 non-null    int64  \n",
            " 3   Name         891 non-null    object \n",
            " 4   Sex          891 non-null    object \n",
            " 5   Age          714 non-null    float64\n",
            " 6   SibSp        891 non-null    int64  \n",
            " 7   Parch        891 non-null    int64  \n",
            " 8   Ticket       891 non-null    object \n",
            " 9   Fare         891 non-null    float64\n",
            " 10  Cabin        204 non-null    object \n",
            " 11  Embarked     889 non-null    object \n",
            "dtypes: float64(2), int64(5), object(5)\n",
            "memory usage: 83.7+ KB\n",
            "\n",
            "Missing values per column:\n",
            "Cabin          687\n",
            "Age            177\n",
            "Embarked         2\n",
            "PassengerId      0\n",
            "Name             0\n",
            "Pclass           0\n",
            "Survived         0\n",
            "Sex              0\n",
            "Parch            0\n",
            "SibSp            0\n",
            "Fare             0\n",
            "Ticket           0\n",
            "dtype: int64\n",
            "\n",
            "Numeric describe:\n"
          ]
        },
        {
          "data": {
            "text/html": [
              "<div>\n",
              "<style scoped>\n",
              "    .dataframe tbody tr th:only-of-type {\n",
              "        vertical-align: middle;\n",
              "    }\n",
              "\n",
              "    .dataframe tbody tr th {\n",
              "        vertical-align: top;\n",
              "    }\n",
              "\n",
              "    .dataframe thead th {\n",
              "        text-align: right;\n",
              "    }\n",
              "</style>\n",
              "<table border=\"1\" class=\"dataframe\">\n",
              "  <thead>\n",
              "    <tr style=\"text-align: right;\">\n",
              "      <th></th>\n",
              "      <th>count</th>\n",
              "      <th>mean</th>\n",
              "      <th>std</th>\n",
              "      <th>min</th>\n",
              "      <th>25%</th>\n",
              "      <th>50%</th>\n",
              "      <th>75%</th>\n",
              "      <th>max</th>\n",
              "    </tr>\n",
              "  </thead>\n",
              "  <tbody>\n",
              "    <tr>\n",
              "      <th>PassengerId</th>\n",
              "      <td>891.0</td>\n",
              "      <td>446.000000</td>\n",
              "      <td>257.353842</td>\n",
              "      <td>1.00</td>\n",
              "      <td>223.5000</td>\n",
              "      <td>446.0000</td>\n",
              "      <td>668.5</td>\n",
              "      <td>891.0000</td>\n",
              "    </tr>\n",
              "    <tr>\n",
              "      <th>Survived</th>\n",
              "      <td>891.0</td>\n",
              "      <td>0.383838</td>\n",
              "      <td>0.486592</td>\n",
              "      <td>0.00</td>\n",
              "      <td>0.0000</td>\n",
              "      <td>0.0000</td>\n",
              "      <td>1.0</td>\n",
              "      <td>1.0000</td>\n",
              "    </tr>\n",
              "    <tr>\n",
              "      <th>Pclass</th>\n",
              "      <td>891.0</td>\n",
              "      <td>2.308642</td>\n",
              "      <td>0.836071</td>\n",
              "      <td>1.00</td>\n",
              "      <td>2.0000</td>\n",
              "      <td>3.0000</td>\n",
              "      <td>3.0</td>\n",
              "      <td>3.0000</td>\n",
              "    </tr>\n",
              "    <tr>\n",
              "      <th>Age</th>\n",
              "      <td>714.0</td>\n",
              "      <td>29.699118</td>\n",
              "      <td>14.526497</td>\n",
              "      <td>0.42</td>\n",
              "      <td>20.1250</td>\n",
              "      <td>28.0000</td>\n",
              "      <td>38.0</td>\n",
              "      <td>80.0000</td>\n",
              "    </tr>\n",
              "    <tr>\n",
              "      <th>SibSp</th>\n",
              "      <td>891.0</td>\n",
              "      <td>0.523008</td>\n",
              "      <td>1.102743</td>\n",
              "      <td>0.00</td>\n",
              "      <td>0.0000</td>\n",
              "      <td>0.0000</td>\n",
              "      <td>1.0</td>\n",
              "      <td>8.0000</td>\n",
              "    </tr>\n",
              "    <tr>\n",
              "      <th>Parch</th>\n",
              "      <td>891.0</td>\n",
              "      <td>0.381594</td>\n",
              "      <td>0.806057</td>\n",
              "      <td>0.00</td>\n",
              "      <td>0.0000</td>\n",
              "      <td>0.0000</td>\n",
              "      <td>0.0</td>\n",
              "      <td>6.0000</td>\n",
              "    </tr>\n",
              "    <tr>\n",
              "      <th>Fare</th>\n",
              "      <td>891.0</td>\n",
              "      <td>32.204208</td>\n",
              "      <td>49.693429</td>\n",
              "      <td>0.00</td>\n",
              "      <td>7.9104</td>\n",
              "      <td>14.4542</td>\n",
              "      <td>31.0</td>\n",
              "      <td>512.3292</td>\n",
              "    </tr>\n",
              "  </tbody>\n",
              "</table>\n",
              "</div>"
            ],
            "text/plain": [
              "             count        mean         std   min       25%       50%    75%  \\\n",
              "PassengerId  891.0  446.000000  257.353842  1.00  223.5000  446.0000  668.5   \n",
              "Survived     891.0    0.383838    0.486592  0.00    0.0000    0.0000    1.0   \n",
              "Pclass       891.0    2.308642    0.836071  1.00    2.0000    3.0000    3.0   \n",
              "Age          714.0   29.699118   14.526497  0.42   20.1250   28.0000   38.0   \n",
              "SibSp        891.0    0.523008    1.102743  0.00    0.0000    0.0000    1.0   \n",
              "Parch        891.0    0.381594    0.806057  0.00    0.0000    0.0000    0.0   \n",
              "Fare         891.0   32.204208   49.693429  0.00    7.9104   14.4542   31.0   \n",
              "\n",
              "                  max  \n",
              "PassengerId  891.0000  \n",
              "Survived       1.0000  \n",
              "Pclass         3.0000  \n",
              "Age           80.0000  \n",
              "SibSp          8.0000  \n",
              "Parch          6.0000  \n",
              "Fare         512.3292  "
            ]
          },
          "execution_count": 6,
          "metadata": {},
          "output_type": "execute_result"
        }
      ],
      "source": [
        "# Quick audit\n",
        "print(\"\\nInfo:\")\n",
        "df.info()\n",
        "print(\"\\nMissing values per column:\")\n",
        "print(df.isna().sum().sort_values(ascending=False))\n",
        "print(\"\\nNumeric describe:\")\n",
        "df.describe().T"
      ]
    },
    {
      "cell_type": "markdown",
      "id": "84781f19",
      "metadata": {
        "id": "84781f19"
      },
      "source": [
        "## 2) Handling Missing Values (Individually)\n",
        "\n",
        "**Goal:** Learn when to **drop** vs **impute**.\n",
        "\n",
        "**Common choices**\n",
        "- Numeric: mean/median\n",
        "- Categorical: most frequent\n",
        "\n",
        "We'll practice on Titanic columns like `Age`, `Embarked`, and `Cabin`."
      ]
    },
    {
      "cell_type": "code",
      "execution_count": 7,
      "id": "865e4694",
      "metadata": {
        "colab": {
          "base_uri": "https://localhost:8080/",
          "height": 397
        },
        "id": "865e4694",
        "outputId": "a65b0af4-fa5d-40a0-95e5-bf590bc4bc81"
      },
      "outputs": [
        {
          "data": {
            "text/plain": [
              "Cabin          687\n",
              "Age            177\n",
              "Embarked         2\n",
              "PassengerId      0\n",
              "Name             0\n",
              "Pclass           0\n",
              "Survived         0\n",
              "Sex              0\n",
              "Parch            0\n",
              "SibSp            0\n",
              "dtype: int64"
            ]
          },
          "execution_count": 7,
          "metadata": {},
          "output_type": "execute_result"
        }
      ],
      "source": [
        "# View null counts\n",
        "df.isna().sum().sort_values(ascending=False).head(10)"
      ]
    },
    {
      "cell_type": "code",
      "execution_count": 8,
      "id": "32ae03bb",
      "metadata": {
        "colab": {
          "base_uri": "https://localhost:8080/"
        },
        "id": "32ae03bb",
        "outputId": "3233d11a-3fa6-41a5-f2f5-a936899b75ba"
      },
      "outputs": [
        {
          "name": "stdout",
          "output_type": "stream",
          "text": [
            "Original: (891, 12) After drop: (712, 12)\n"
          ]
        }
      ],
      "source": [
        "# 2.1 DROP example (use cautiously)\n",
        "df_drop_rows = df.dropna(subset=['Age', 'Embarked'])  # drop rows where these are null\n",
        "print(\"Original:\", df.shape, \"After drop:\", df_drop_rows.shape)"
      ]
    },
    {
      "cell_type": "code",
      "execution_count": 9,
      "id": "1613fc7c",
      "metadata": {
        "colab": {
          "base_uri": "https://localhost:8080/",
          "height": 397
        },
        "id": "1613fc7c",
        "outputId": "8607d175-98cf-411c-b236-4fe31260ea07"
      },
      "outputs": [
        {
          "data": {
            "text/plain": [
              "PassengerId    0\n",
              "Survived       0\n",
              "Pclass         0\n",
              "Name           0\n",
              "Sex            0\n",
              "Age            0\n",
              "SibSp          0\n",
              "Parch          0\n",
              "Ticket         0\n",
              "Fare           0\n",
              "dtype: int64"
            ]
          },
          "execution_count": 9,
          "metadata": {},
          "output_type": "execute_result"
        }
      ],
      "source": [
        "# 2.2 SIMPLE IMPUTE example\n",
        "df_imp = df.copy()\n",
        "# Numeric (Age): median\n",
        "df_imp['Age'] = df_imp['Age'].fillna(df_imp['Age'].median())\n",
        "# Categorical (Embarked): most frequent\n",
        "df_imp['Embarked'] = df_imp['Embarked'].fillna(df_imp['Embarked'].mode()[0])\n",
        "\n",
        "# 'Cabin' is very sparse; we can fill with \"Unknown\"\n",
        "df_imp['Cabin'] = df_imp['Cabin'].fillna('Unknown')\n",
        "\n",
        "df_imp.isna().sum().head(10)"
      ]
    },
    {
      "cell_type": "code",
      "execution_count": 10,
      "id": "346a57b5",
      "metadata": {
        "colab": {
          "base_uri": "https://localhost:8080/",
          "height": 206
        },
        "id": "346a57b5",
        "outputId": "1a863abb-50c9-4040-8967-fa91d9f784da"
      },
      "outputs": [
        {
          "data": {
            "text/html": [
              "<div>\n",
              "<style scoped>\n",
              "    .dataframe tbody tr th:only-of-type {\n",
              "        vertical-align: middle;\n",
              "    }\n",
              "\n",
              "    .dataframe tbody tr th {\n",
              "        vertical-align: top;\n",
              "    }\n",
              "\n",
              "    .dataframe thead th {\n",
              "        text-align: right;\n",
              "    }\n",
              "</style>\n",
              "<table border=\"1\" class=\"dataframe\">\n",
              "  <thead>\n",
              "    <tr style=\"text-align: right;\">\n",
              "      <th></th>\n",
              "      <th>PassengerId</th>\n",
              "      <th>Survived</th>\n",
              "      <th>Pclass</th>\n",
              "      <th>Age</th>\n",
              "      <th>SibSp</th>\n",
              "      <th>Parch</th>\n",
              "      <th>Fare</th>\n",
              "    </tr>\n",
              "  </thead>\n",
              "  <tbody>\n",
              "    <tr>\n",
              "      <th>0</th>\n",
              "      <td>1.0</td>\n",
              "      <td>0.0</td>\n",
              "      <td>3.0</td>\n",
              "      <td>22.0</td>\n",
              "      <td>1.0</td>\n",
              "      <td>0.0</td>\n",
              "      <td>7.2500</td>\n",
              "    </tr>\n",
              "    <tr>\n",
              "      <th>1</th>\n",
              "      <td>2.0</td>\n",
              "      <td>1.0</td>\n",
              "      <td>1.0</td>\n",
              "      <td>38.0</td>\n",
              "      <td>1.0</td>\n",
              "      <td>0.0</td>\n",
              "      <td>71.2833</td>\n",
              "    </tr>\n",
              "    <tr>\n",
              "      <th>2</th>\n",
              "      <td>3.0</td>\n",
              "      <td>1.0</td>\n",
              "      <td>3.0</td>\n",
              "      <td>26.0</td>\n",
              "      <td>0.0</td>\n",
              "      <td>0.0</td>\n",
              "      <td>7.9250</td>\n",
              "    </tr>\n",
              "    <tr>\n",
              "      <th>3</th>\n",
              "      <td>4.0</td>\n",
              "      <td>1.0</td>\n",
              "      <td>1.0</td>\n",
              "      <td>35.0</td>\n",
              "      <td>1.0</td>\n",
              "      <td>0.0</td>\n",
              "      <td>53.1000</td>\n",
              "    </tr>\n",
              "    <tr>\n",
              "      <th>4</th>\n",
              "      <td>5.0</td>\n",
              "      <td>0.0</td>\n",
              "      <td>3.0</td>\n",
              "      <td>35.0</td>\n",
              "      <td>0.0</td>\n",
              "      <td>0.0</td>\n",
              "      <td>8.0500</td>\n",
              "    </tr>\n",
              "  </tbody>\n",
              "</table>\n",
              "</div>"
            ],
            "text/plain": [
              "   PassengerId  Survived  Pclass   Age  SibSp  Parch     Fare\n",
              "0          1.0       0.0     3.0  22.0    1.0    0.0   7.2500\n",
              "1          2.0       1.0     1.0  38.0    1.0    0.0  71.2833\n",
              "2          3.0       1.0     3.0  26.0    0.0    0.0   7.9250\n",
              "3          4.0       1.0     1.0  35.0    1.0    0.0  53.1000\n",
              "4          5.0       0.0     3.0  35.0    0.0    0.0   8.0500"
            ]
          },
          "execution_count": 10,
          "metadata": {},
          "output_type": "execute_result"
        }
      ],
      "source": [
        "# 2.3 KNN Imputation (numeric only demonstration)\n",
        "num_cols = df.select_dtypes(include=['number']).columns.tolist()\n",
        "knn_df = df[num_cols].copy()\n",
        "imputer = KNNImputer(n_neighbors=3)\n",
        "knn_imputed = imputer.fit_transform(knn_df)\n",
        "knn_imputed_df = pd.DataFrame(knn_imputed, columns=num_cols)\n",
        "knn_imputed_df.head()"
      ]
    },
    {
      "cell_type": "markdown",
      "id": "9902aff5",
      "metadata": {
        "id": "9902aff5"
      },
      "source": [
        "**📝 Exercise 2**\n",
        "1) Compare **mean vs median** imputation for `Age`. Which preserves the original distribution better?  \n",
        "2) For `Embarked`, try filling with a new category (`'Unknown'`) vs mode. What changes in `value_counts()`?"
      ]
    },
    {
      "cell_type": "code",
      "execution_count": 16,
      "id": "eTRg2b4aKJnv",
      "metadata": {
        "colab": {
          "base_uri": "https://localhost:8080/",
          "height": 468
        },
        "id": "eTRg2b4aKJnv",
        "outputId": "5122570a-8436-40d2-8ddf-eaf21e62aaee"
      },
      "outputs": [
        {
          "data": {
            "image/png": "[encoded data removed]",
            "text/plain": [
              "<Figure size 1000x500 with 1 Axes>"
            ]
          },
          "metadata": {},
          "output_type": "display_data"
        }
      ],
      "source": [
        "\n",
        "mean_df = df.copy()\n",
        "median_df = df.copy()\n",
        "mean_df['Age'] = mean_df['Age'].fillna(mean_df['Age'].mean())\n",
        "median_df['Age'] = median_df['Age'].fillna(median_df['Age'].median())\n",
        "\n",
        "plt.figure(figsize=(10,5))\n",
        "plt.hist(df['Age'].dropna(), bins=30, alpha=0.3, label=\"Original Age\")\n",
        "plt.hist(mean_df['Age'], bins=30, alpha=0.5, label=\"Mean Imputed Age\")\n",
        "plt.hist(median_df['Age'], bins=30, alpha=0.5, label=\"Median Imputed Age\")\n",
        "plt.legend()\n",
        "plt.title(\"Mean vs Median Imputation for Age\")\n",
        "plt.show()"
      ]
    },
    {
      "cell_type": "code",
      "execution_count": 17,
      "id": "BYbWXpHkK8kO",
      "metadata": {
        "colab": {
          "base_uri": "https://localhost:8080/"
        },
        "id": "BYbWXpHkK8kO",
        "outputId": "9256c9cc-725d-4f2f-c3c2-c686457ccb60"
      },
      "outputs": [
        {
          "name": "stdout",
          "output_type": "stream",
          "text": [
            "Original:\n",
            " Embarked\n",
            "S      644\n",
            "C      168\n",
            "Q       77\n",
            "NaN      2\n",
            "Name: count, dtype: int64\n",
            "\n",
            "Mode Imputation:\n",
            " Embarked\n",
            "S    646\n",
            "C    168\n",
            "Q     77\n",
            "Name: count, dtype: int64\n",
            "\n",
            "'Unknown' Imputation:\n",
            " Embarked\n",
            "S          644\n",
            "C          168\n",
            "Q           77\n",
            "Unknown      2\n",
            "Name: count, dtype: int64\n"
          ]
        }
      ],
      "source": [
        "\n",
        "mode_df = df.copy()\n",
        "mode_df['Embarked'] = mode_df['Embarked'].fillna(mode_df['Embarked'].mode()[0])\n",
        "\n",
        "\n",
        "unknown_df = df.copy()\n",
        "unknown_df['Embarked'] = unknown_df['Embarked'].fillna('Unknown')\n",
        "\n",
        "\n",
        "print(\"Original:\\n\", df['Embarked'].value_counts(dropna=False))\n",
        "print(\"\\nMode Imputation:\\n\", mode_df['Embarked'].value_counts())\n",
        "print(\"\\n'Unknown' Imputation:\\n\", unknown_df['Embarked'].value_counts())\n"
      ]
    },
    {
      "cell_type": "markdown",
      "id": "acba27c3",
      "metadata": {
        "id": "acba27c3"
      },
      "source": [
        "## 3) Scaling & Normalization (Individually)\n",
        "\n",
        "- **Standardization**: z = (x - mean)/std (good for many ML models)\n",
        "- **MinMax scaling**: maps to [0,1] (useful when features have different units)\n",
        "- **Per-row Normalization**: scales each *row vector* to unit norm (useful for text-like frequency vectors)\n",
        "\n",
        "We'll demonstrate on `Fare` and `Age`."
      ]
    },
    {
      "cell_type": "code",
      "execution_count": 18,
      "id": "4c5f5268",
      "metadata": {
        "colab": {
          "base_uri": "https://localhost:8080/",
          "height": 391
        },
        "id": "4c5f5268",
        "outputId": "f388335e-6cd2-4c82-f9ba-5175d4cc3a20"
      },
      "outputs": [
        {
          "data": {
            "image/png": "[encoded data removed]",
            "text/plain": [
              "<Figure size 1000x400 with 2 Axes>"
            ]
          },
          "metadata": {},
          "output_type": "display_data"
        }
      ],
      "source": [
        "fig, axes = plt.subplots(1, 2, figsize=(10,4))\n",
        "axes[0].hist(df_imp['Age'].dropna(), bins=30)\n",
        "axes[0].set_title('Age - Raw')\n",
        "axes[1].hist(df_imp['Fare'].dropna(), bins=30)\n",
        "axes[1].set_title('Fare - Raw')\n",
        "plt.show()"
      ]
    },
    {
      "cell_type": "code",
      "execution_count": 19,
      "id": "2196adb4",
      "metadata": {
        "colab": {
          "base_uri": "https://localhost:8080/",
          "height": 391
        },
        "id": "2196adb4",
        "outputId": "f599948b-6afb-4852-b6dd-56232b20e5d8"
      },
      "outputs": [
        {
          "data": {
            "image/png": "[encoded data removed]",
            "text/plain": [
              "<Figure size 1000x400 with 2 Axes>"
            ]
          },
          "metadata": {},
          "output_type": "display_data"
        }
      ],
      "source": [
        "sc_std = StandardScaler()\n",
        "sc_mm  = MinMaxScaler()\n",
        "\n",
        "age_std = sc_std.fit_transform(df_imp[['Age']])\n",
        "fare_mm = sc_mm.fit_transform(df_imp[['Fare']])\n",
        "\n",
        "fig, axes = plt.subplots(1, 2, figsize=(10,4))\n",
        "axes[0].hist(age_std.flatten(), bins=30)\n",
        "axes[0].set_title('Age - Standardized')\n",
        "axes[1].hist(fare_mm.flatten(), bins=30)\n",
        "axes[1].set_title('Fare - MinMax [0,1]')\n",
        "plt.show()"
      ]
    },
    {
      "cell_type": "markdown",
      "id": "34d456b1",
      "metadata": {
        "id": "34d456b1"
      },
      "source": [
        "**📝 Exercise 3**\n",
        "1) Standardize `Fare` and plot the histogram.  \n",
        "2) Apply **Normalizer** on `[Age, Fare]` rows and check the first 5 normalized vectors."
      ]
    },
    {
      "cell_type": "code",
      "execution_count": 20,
      "id": "sMhg0QSPLWRO",
      "metadata": {
        "colab": {
          "base_uri": "https://localhost:8080/",
          "height": 559
        },
        "id": "sMhg0QSPLWRO",
        "outputId": "202f40c4-0c95-427f-9bab-3f33f8852f4b"
      },
      "outputs": [
        {
          "data": {
            "image/png": "[encoded data removed]",
            "text/plain": [
              "<Figure size 640x480 with 1 Axes>"
            ]
          },
          "metadata": {},
          "output_type": "display_data"
        },
        {
          "name": "stdout",
          "output_type": "stream",
          "text": [
            "[[0.94975704 0.31298812]\n",
            " [0.47041706 0.88244422]\n",
            " [0.95655127 0.29156418]\n",
            " [0.55033828 0.83494178]\n",
            " [0.97455519 0.22414769]]\n"
          ]
        }
      ],
      "source": [
        "from sklearn.preprocessing import StandardScaler, Normalizer\n",
        "import matplotlib.pyplot as plt\n",
        "\n",
        "\n",
        "scaler = StandardScaler()\n",
        "df['Fare_scaled'] = scaler.fit_transform(df[['Fare']])\n",
        "\n",
        "\n",
        "plt.hist(df['Fare_scaled'], bins=30)\n",
        "plt.xlabel(\"Standardized Fare\")\n",
        "plt.ylabel(\"Count\")\n",
        "plt.title(\"Histogram of Standardized Fare\")\n",
        "plt.show()\n",
        "\n",
        "\n",
        "norm = Normalizer()\n",
        "norm_values = norm.fit_transform(df[['Age', 'Fare']].dropna())\n",
        "\n",
        "print(norm_values[:5])"
      ]
    },
    {
      "cell_type": "markdown",
      "id": "fdf2e146",
      "metadata": {
        "id": "fdf2e146"
      },
      "source": [
        "## 4) Encoding Categorical Variables (Individually)\n",
        "\n",
        "- **Ordinal/Label encoding**: map categories to integers (assumes order or used with tree models).  \n",
        "- **One-Hot encoding**: binary column per category (no order assumption).\n",
        "\n",
        "We'll use `Sex` and `Embarked` as examples."
      ]
    },
    {
      "cell_type": "code",
      "execution_count": 21,
      "id": "8a961c29",
      "metadata": {
        "colab": {
          "base_uri": "https://localhost:8080/",
          "height": 206
        },
        "id": "8a961c29",
        "outputId": "bde2ffc9-6261-4aba-c270-1ee423e7bec9"
      },
      "outputs": [
        {
          "data": {
            "text/html": [
              "<div>\n",
              "<style scoped>\n",
              "    .dataframe tbody tr th:only-of-type {\n",
              "        vertical-align: middle;\n",
              "    }\n",
              "\n",
              "    .dataframe tbody tr th {\n",
              "        vertical-align: top;\n",
              "    }\n",
              "\n",
              "    .dataframe thead th {\n",
              "        text-align: right;\n",
              "    }\n",
              "</style>\n",
              "<table border=\"1\" class=\"dataframe\">\n",
              "  <thead>\n",
              "    <tr style=\"text-align: right;\">\n",
              "      <th></th>\n",
              "      <th>Sex_ord</th>\n",
              "      <th>Embarked_ord</th>\n",
              "    </tr>\n",
              "  </thead>\n",
              "  <tbody>\n",
              "    <tr>\n",
              "      <th>0</th>\n",
              "      <td>1.0</td>\n",
              "      <td>2.0</td>\n",
              "    </tr>\n",
              "    <tr>\n",
              "      <th>1</th>\n",
              "      <td>0.0</td>\n",
              "      <td>0.0</td>\n",
              "    </tr>\n",
              "    <tr>\n",
              "      <th>2</th>\n",
              "      <td>0.0</td>\n",
              "      <td>2.0</td>\n",
              "    </tr>\n",
              "    <tr>\n",
              "      <th>3</th>\n",
              "      <td>0.0</td>\n",
              "      <td>2.0</td>\n",
              "    </tr>\n",
              "    <tr>\n",
              "      <th>4</th>\n",
              "      <td>1.0</td>\n",
              "      <td>2.0</td>\n",
              "    </tr>\n",
              "  </tbody>\n",
              "</table>\n",
              "</div>"
            ],
            "text/plain": [
              "   Sex_ord  Embarked_ord\n",
              "0      1.0           2.0\n",
              "1      0.0           0.0\n",
              "2      0.0           2.0\n",
              "3      0.0           2.0\n",
              "4      1.0           2.0"
            ]
          },
          "execution_count": 21,
          "metadata": {},
          "output_type": "execute_result"
        }
      ],
      "source": [
        "# 4.1 Ordinal encoding demo (note: no real order in Sex/Embarked; this is just to illustrate)\n",
        "enc = OrdinalEncoder()\n",
        "ord_demo = df_imp[['Sex','Embarked']].copy()\n",
        "ord_vals = enc.fit_transform(ord_demo)\n",
        "pd.DataFrame(ord_vals, columns=['Sex_ord','Embarked_ord']).head()"
      ]
    },
    {
      "cell_type": "code",
      "execution_count": 22,
      "id": "fb67c353",
      "metadata": {
        "colab": {
          "base_uri": "https://localhost:8080/",
          "height": 206
        },
        "id": "fb67c353",
        "outputId": "41b31a02-a3ab-4539-9bb1-3bd5bce4b82f"
      },
      "outputs": [
        {
          "data": {
            "text/html": [
              "<div>\n",
              "<style scoped>\n",
              "    .dataframe tbody tr th:only-of-type {\n",
              "        vertical-align: middle;\n",
              "    }\n",
              "\n",
              "    .dataframe tbody tr th {\n",
              "        vertical-align: top;\n",
              "    }\n",
              "\n",
              "    .dataframe thead th {\n",
              "        text-align: right;\n",
              "    }\n",
              "</style>\n",
              "<table border=\"1\" class=\"dataframe\">\n",
              "  <thead>\n",
              "    <tr style=\"text-align: right;\">\n",
              "      <th></th>\n",
              "      <th>Survived</th>\n",
              "      <th>Age</th>\n",
              "      <th>Fare</th>\n",
              "      <th>Sex_female</th>\n",
              "      <th>Sex_male</th>\n",
              "      <th>Embarked_C</th>\n",
              "      <th>Embarked_Q</th>\n",
              "      <th>Embarked_S</th>\n",
              "    </tr>\n",
              "  </thead>\n",
              "  <tbody>\n",
              "    <tr>\n",
              "      <th>0</th>\n",
              "      <td>0</td>\n",
              "      <td>22.0</td>\n",
              "      <td>7.2500</td>\n",
              "      <td>False</td>\n",
              "      <td>True</td>\n",
              "      <td>False</td>\n",
              "      <td>False</td>\n",
              "      <td>True</td>\n",
              "    </tr>\n",
              "    <tr>\n",
              "      <th>1</th>\n",
              "      <td>1</td>\n",
              "      <td>38.0</td>\n",
              "      <td>71.2833</td>\n",
              "      <td>True</td>\n",
              "      <td>False</td>\n",
              "      <td>True</td>\n",
              "      <td>False</td>\n",
              "      <td>False</td>\n",
              "    </tr>\n",
              "    <tr>\n",
              "      <th>2</th>\n",
              "      <td>1</td>\n",
              "      <td>26.0</td>\n",
              "      <td>7.9250</td>\n",
              "      <td>True</td>\n",
              "      <td>False</td>\n",
              "      <td>False</td>\n",
              "      <td>False</td>\n",
              "      <td>True</td>\n",
              "    </tr>\n",
              "    <tr>\n",
              "      <th>3</th>\n",
              "      <td>1</td>\n",
              "      <td>35.0</td>\n",
              "      <td>53.1000</td>\n",
              "      <td>True</td>\n",
              "      <td>False</td>\n",
              "      <td>False</td>\n",
              "      <td>False</td>\n",
              "      <td>True</td>\n",
              "    </tr>\n",
              "    <tr>\n",
              "      <th>4</th>\n",
              "      <td>0</td>\n",
              "      <td>35.0</td>\n",
              "      <td>8.0500</td>\n",
              "      <td>False</td>\n",
              "      <td>True</td>\n",
              "      <td>False</td>\n",
              "      <td>False</td>\n",
              "      <td>True</td>\n",
              "    </tr>\n",
              "  </tbody>\n",
              "</table>\n",
              "</div>"
            ],
            "text/plain": [
              "   Survived   Age     Fare  Sex_female  Sex_male  Embarked_C  Embarked_Q  \\\n",
              "0         0  22.0   7.2500       False      True       False       False   \n",
              "1         1  38.0  71.2833        True     False        True       False   \n",
              "2         1  26.0   7.9250        True     False       False       False   \n",
              "3         1  35.0  53.1000        True     False       False       False   \n",
              "4         0  35.0   8.0500       False      True       False       False   \n",
              "\n",
              "   Embarked_S  \n",
              "0        True  \n",
              "1       False  \n",
              "2        True  \n",
              "3        True  \n",
              "4        True  "
            ]
          },
          "execution_count": 22,
          "metadata": {},
          "output_type": "execute_result"
        }
      ],
      "source": [
        "# 4.2 One-Hot encoding demo with pandas\n",
        "ohe_embarked = pd.get_dummies(df_imp['Embarked'], prefix='Embarked')\n",
        "ohe_sex = pd.get_dummies(df_imp['Sex'], prefix='Sex')\n",
        "encoded_df = pd.concat([df_imp[['Survived','Age','Fare']], ohe_sex, ohe_embarked], axis=1)\n",
        "encoded_df.head()"
      ]
    },
    {
      "cell_type": "markdown",
      "id": "5be0cd1f",
      "metadata": {
        "id": "5be0cd1f"
      },
      "source": [
        "**📝 Exercise 4**\n",
        "1) Compare the **number of features** produced by ordinal vs one-hot for `Embarked`.  \n",
        "2) Why might one-hot be safer for linear models?"
      ]
    },
    {
      "cell_type": "code",
      "execution_count": 24,
      "id": "l8q4IaCALd3g",
      "metadata": {
        "colab": {
          "base_uri": "https://localhost:8080/",
          "height": 523
        },
        "id": "l8q4IaCALd3g",
        "outputId": "4beb6f15-4244-4a82-b424-d859a44e7528"
      },
      "outputs": [
        {
          "name": "stdout",
          "output_type": "stream",
          "text": [
            "Original data:\n",
            "  Embarked\n",
            "0        C\n",
            "1        Q\n",
            "2        S\n",
            "3        S\n",
            "4        C\n",
            "5        Q\n",
            "\n",
            "Ordinal Encoding:\n",
            "  Embarked  Embarked_ordinal\n",
            "0        C               0.0\n",
            "1        Q               1.0\n",
            "2        S               2.0\n",
            "3        S               2.0\n",
            "4        C               0.0\n",
            "5        Q               1.0\n",
            "Number of features (ordinal): 1\n",
            "\n",
            "One-Hot Encoding:\n",
            "   Embarked_C  Embarked_Q  Embarked_S\n",
            "0         1.0         0.0         0.0\n",
            "1         0.0         1.0         0.0\n",
            "2         0.0         0.0         1.0\n",
            "3         0.0         0.0         1.0\n",
            "4         1.0         0.0         0.0\n",
            "5         0.0         1.0         0.0\n",
            "Number of features (one-hot): 3\n"
          ]
        }
      ],
      "source": [
        "import pandas as pd\n",
        "from sklearn.preprocessing import OrdinalEncoder, OneHotEncoder\n",
        "\n",
        "data = pd.DataFrame({\n",
        "    'Embarked': ['C', 'Q', 'S', 'S', 'C', 'Q']\n",
        "})\n",
        "\n",
        "print(\"Original data:\")\n",
        "print(data)\n",
        "\n",
        "\n",
        "ord_enc = OrdinalEncoder()\n",
        "data['Embarked_ordinal'] = ord_enc.fit_transform(data[['Embarked']])\n",
        "print(\"\\nOrdinal Encoding:\")\n",
        "print(data[['Embarked', 'Embarked_ordinal']])\n",
        "print(\"Number of features (ordinal):\", 1)\n",
        "\n",
        "\n",
        "ohe = OneHotEncoder(sparse_output=False)\n",
        "onehot = ohe.fit_transform(data[['Embarked']])\n",
        "onehot_df = pd.DataFrame(onehot, columns=ohe.get_feature_names_out(['Embarked']))\n",
        "print(\"\\nOne-Hot Encoding:\")\n",
        "print(onehot_df)\n",
        "print(\"Number of features (one-hot):\", onehot_df.shape[1])"
      ]
    },
    {
      "cell_type": "markdown",
      "id": "8c161dfa",
      "metadata": {
        "id": "8c161dfa"
      },
      "source": [
        "## 5) Feature Transformation (Individually)\n",
        "\n",
        "- **Log transform**: t = log1p(x) for right-skewed positive data (e.g., Fare).\n",
        "- **Power transform**: Yeo-Johnson can handle zero/negative values; stabilizes variance.\n",
        "- **Polynomial features**: create interactions/quadratics for simple non-linear modeling.\n",
        "\n",
        "We'll use `Fare` and `Age`."
      ]
    },
    {
      "cell_type": "code",
      "execution_count": 25,
      "id": "1c5012b4",
      "metadata": {
        "colab": {
          "base_uri": "https://localhost:8080/",
          "height": 391
        },
        "id": "1c5012b4",
        "outputId": "b927f3d8-74b8-4259-a11f-a3c6448d7f2a"
      },
      "outputs": [
        {
          "data": {
            "image/png": "[encoded data removed]",
            "text/plain": [
              "<Figure size 1000x400 with 2 Axes>"
            ]
          },
          "metadata": {},
          "output_type": "display_data"
        }
      ],
      "source": [
        "# 5.1 Log transform on Fare (positive values)\n",
        "fare_raw = df_imp['Fare'].dropna().values.reshape(-1,1)\n",
        "fare_log = np.log1p(fare_raw)\n",
        "\n",
        "fig, axes = plt.subplots(1, 2, figsize=(10,4))\n",
        "axes[0].hist(fare_raw.flatten(), bins=30)\n",
        "axes[0].set_title('Fare - Raw')\n",
        "axes[1].hist(fare_log.flatten(), bins=30)\n",
        "axes[1].set_title('Fare - log1p')\n",
        "plt.show()"
      ]
    },
    {
      "cell_type": "code",
      "execution_count": 26,
      "id": "c8c34a54",
      "metadata": {
        "colab": {
          "base_uri": "https://localhost:8080/",
          "height": 391
        },
        "id": "c8c34a54",
        "outputId": "e720bc45-3bf1-4a81-c1b3-a75431353164"
      },
      "outputs": [
        {
          "data": {
            "image/png": "[encoded data removed]",
            "text/plain": [
              "<Figure size 1000x400 with 2 Axes>"
            ]
          },
          "metadata": {},
          "output_type": "display_data"
        }
      ],
      "source": [
        "# 5.2 Power transform (Yeo-Johnson) on [Age, Fare]\n",
        "pt = PowerTransformer(method='yeo-johnson')\n",
        "af = df_imp[['Age','Fare']].dropna()\n",
        "af_pt = pt.fit_transform(af)\n",
        "\n",
        "fig, axes = plt.subplots(1, 2, figsize=(10,4))\n",
        "axes[0].hist(af['Age'].values, bins=30)\n",
        "axes[0].set_title('Age - Raw')\n",
        "axes[1].hist(af_pt[:,0], bins=30)\n",
        "axes[1].set_title('Age - Yeo-Johnson')\n",
        "plt.show()"
      ]
    },
    {
      "cell_type": "code",
      "execution_count": 27,
      "id": "b4d9c780",
      "metadata": {
        "colab": {
          "base_uri": "https://localhost:8080/"
        },
        "id": "b4d9c780",
        "outputId": "014c7e5f-ab82-44bc-81dc-3423bac261f2"
      },
      "outputs": [
        {
          "name": "stdout",
          "output_type": "stream",
          "text": [
            "Original shape: (891, 2)  -> With poly: (891, 5)\n"
          ]
        },
        {
          "data": {
            "text/plain": [
              "array(['Age', 'Fare', 'Age^2', 'Age Fare', 'Fare^2'], dtype=object)"
            ]
          },
          "execution_count": 27,
          "metadata": {},
          "output_type": "execute_result"
        }
      ],
      "source": [
        "# 5.3 Polynomial features on [Age, Fare] (degree=2)\n",
        "poly = PolynomialFeatures(degree=2, include_bias=False)\n",
        "af_poly = poly.fit_transform(af[['Age','Fare']])\n",
        "print(\"Original shape:\", af[['Age','Fare']].shape, \" -> With poly:\", af_poly.shape)\n",
        "poly.get_feature_names_out(['Age','Fare'])[:6]"
      ]
    },
    {
      "cell_type": "code",
      "execution_count": 29,
      "id": "ElwTxbLoL2CW",
      "metadata": {
        "colab": {
          "base_uri": "https://localhost:8080/",
          "height": 1000
        },
        "id": "ElwTxbLoL2CW",
        "outputId": "0fa470b0-20fa-4933-c5a0-4dd68c23723b"
      },
      "outputs": [
        {
          "name": "stdout",
          "output_type": "stream",
          "text": [
            "Skewness before transform:\n",
            "Age     0.237708\n",
            "Fare    1.396740\n",
            "dtype: float64\n"
          ]
        },
        {
          "data": {
            "image/png": "[encoded data removed]",
            "text/plain": [
              "<Figure size 640x480 with 1 Axes>"
            ]
          },
          "metadata": {},
          "output_type": "display_data"
        },
        {
          "data": {
            "image/png": "[encoded data removed]",
            "text/plain": [
              "<Figure size 640x480 with 1 Axes>"
            ]
          },
          "metadata": {},
          "output_type": "display_data"
        },
        {
          "data": {
            "image/png": "[encoded data removed]",
            "text/plain": [
              "<Figure size 640x480 with 1 Axes>"
            ]
          },
          "metadata": {},
          "output_type": "display_data"
        },
        {
          "name": "stdout",
          "output_type": "stream",
          "text": [
            "\n",
            "Skewness after log and power:\n",
            "Log: 0.41147827703553663\n",
            "Power: 0.12004454063376133\n",
            "\n",
            "Polynomial Features (degree=2):\n",
            "    Age   Fare   Age^2  Age Fare     Fare^2\n",
            "0  22.0   7.25   484.0    159.50    52.5625\n",
            "1  38.0  71.28  1444.0   2708.64  5080.8384\n",
            "2  26.0   7.92   676.0    205.92    62.7264\n",
            "3  35.0  53.10  1225.0   1858.50  2819.6100\n",
            "4  54.0   8.05  2916.0    434.70    64.8025\n"
          ]
        }
      ],
      "source": [
        "import pandas as pd\n",
        "import numpy as np\n",
        "import matplotlib.pyplot as plt\n",
        "from sklearn.preprocessing import PowerTransformer, PolynomialFeatures\n",
        "\n",
        "\n",
        "data = pd.DataFrame({\n",
        "    'Age': [22, 38, 26, 35, 54, 2, 27, 14, 4, 58],\n",
        "    'Fare': [7.25, 71.28, 7.92, 53.10, 8.05, 21.07, 11.13, 30.07, 16.70, 26.55]\n",
        "})\n",
        "\n",
        "\n",
        "print(\"Skewness before transform:\")\n",
        "print(data[['Age', 'Fare']].skew())\n",
        "\n",
        "\n",
        "plt.hist(data['Fare'], bins=10, color='skyblue')\n",
        "plt.title(\"Original Fare Distribution\")\n",
        "plt.show()\n",
        "\n",
        "\n",
        "data['Fare_log'] = np.log1p(data['Fare'])\n",
        "\n",
        "plt.hist(data['Fare_log'], bins=10, color='orange')\n",
        "plt.title(\"Log Transformed Fare\")\n",
        "plt.show()\n",
        "\n",
        "\n",
        "pt = PowerTransformer(method='yeo-johnson')\n",
        "data['Fare_power'] = pt.fit_transform(data[['Fare']])\n",
        "\n",
        "plt.hist(data['Fare_power'], bins=10, color='green')\n",
        "plt.title(\"Power Transformed Fare\")\n",
        "plt.show()\n",
        "\n",
        "print(\"\\nSkewness after log and power:\")\n",
        "print(\"Log:\", data['Fare_log'].skew())\n",
        "print(\"Power:\", data['Fare_power'].skew())\n",
        "\n",
        "\n",
        "poly = PolynomialFeatures(degree=2, include_bias=False)\n",
        "poly_features = poly.fit_transform(data[['Age', 'Fare']])\n",
        "poly_df = pd.DataFrame(poly_features, columns=poly.get_feature_names_out(['Age', 'Fare']))\n",
        "\n",
        "print(\"\\nPolynomial Features (degree=2):\")\n",
        "print(poly_df.head())"
      ]
    },
    {
      "cell_type": "markdown",
      "id": "86f15002",
      "metadata": {
        "id": "86f15002"
      },
      "source": [
        "**📝 Exercise 5**\n",
        "1) Identify one numeric column that is **skewed**. Try both **log** and **power** transforms and compare histograms.  \n",
        "2) With `PolynomialFeatures(2)`, which new terms are created from `Age` and `Fare`?"
      ]
    },
    {
      "cell_type": "code",
      "execution_count": 30,
      "id": "e-PjR_YRxZAc",
      "metadata": {
        "colab": {
          "base_uri": "https://localhost:8080/",
          "height": 599
        },
        "id": "e-PjR_YRxZAc",
        "outputId": "e03a5532-c15b-4b9e-dedd-2a6070b9bde6"
      },
      "outputs": [
        {
          "name": "stdout",
          "output_type": "stream",
          "text": [
            "Skewness of numeric columns:\n",
            "Age     0.389108\n",
            "Fare    4.787317\n",
            "dtype: float64\n"
          ]
        },
        {
          "data": {
            "image/png": "[encoded data removed]",
            "text/plain": [
              "<Figure size 1200x400 with 3 Axes>"
            ]
          },
          "metadata": {},
          "output_type": "display_data"
        },
        {
          "name": "stdout",
          "output_type": "stream",
          "text": [
            "New Polynomial Features:\n",
            "['Age' 'Fare' 'Age^2' 'Age Fare' 'Fare^2']\n",
            "    Age     Fare   Age^2   Age Fare       Fare^2\n",
            "0  22.0   7.2500   484.0   159.5000    52.562500\n",
            "1  38.0  71.2833  1444.0  2708.7654  5081.308859\n",
            "2  26.0   7.9250   676.0   206.0500    62.805625\n",
            "3  35.0  53.1000  1225.0  1858.5000  2819.610000\n",
            "4  35.0   8.0500  1225.0   281.7500    64.802500\n"
          ]
        }
      ],
      "source": [
        "import pandas as pd\n",
        "import numpy as np\n",
        "import matplotlib.pyplot as plt\n",
        "from sklearn.preprocessing import PowerTransformer, PolynomialFeatures\n",
        "\n",
        "\n",
        "print(\"Skewness of numeric columns:\")\n",
        "print(df[['Age', 'Fare']].skew())\n",
        "\n",
        "\n",
        "col = 'Fare'\n",
        "\n",
        "\n",
        "plt.figure(figsize=(12,4))\n",
        "plt.subplot(1,3,1)\n",
        "plt.hist(df[col].dropna(), bins=30)\n",
        "plt.title(f\"Original {col}\")\n",
        "\n",
        "\n",
        "plt.subplot(1,3,2)\n",
        "plt.hist(np.log1p(df[col].dropna()), bins=30)\n",
        "plt.title(f\"Log Transform {col}\")\n",
        "\n",
        "\n",
        "pt = PowerTransformer(method='yeo-johnson')\n",
        "fare_power = pt.fit_transform(df[[col]].dropna())\n",
        "\n",
        "plt.subplot(1,3,3)\n",
        "plt.hist(fare_power, bins=30)\n",
        "plt.title(f\"Power Transform {col}\")\n",
        "\n",
        "plt.show()\n",
        "\n",
        "\n",
        "poly = PolynomialFeatures(degree=2, include_bias=False)\n",
        "poly_features = poly.fit_transform(df[['Age','Fare']].dropna())\n",
        "\n",
        "\n",
        "feature_names = poly.get_feature_names_out(['Age','Fare'])\n",
        "print(\"New Polynomial Features:\")\n",
        "print(feature_names)\n",
        "\n",
        "\n",
        "print(pd.DataFrame(poly_features, columns=feature_names).head())"
      ]
    },
    {
      "cell_type": "markdown",
      "id": "8b550f5f",
      "metadata": {
        "id": "8b550f5f"
      },
      "source": [
        "## 6) Simple Dimensionality Reduction (PCA) — Visualization Only\n",
        "\n",
        "We will apply PCA to **numeric** features to reduce to 2D and make a scatter plot colored by `Survived` (if present).\n",
        "\n",
        "> Note: This is for **intuition/visualization** only in Part A."
      ]
    },
    {
      "cell_type": "code",
      "execution_count": 31,
      "id": "888f66b0",
      "metadata": {
        "colab": {
          "base_uri": "https://localhost:8080/",
          "height": 504
        },
        "id": "888f66b0",
        "outputId": "0c696fb3-1259-44ed-9f97-e45f1d0905f9"
      },
      "outputs": [
        {
          "name": "stdout",
          "output_type": "stream",
          "text": [
            "Explained variance ratios: [0.96165195 0.03587775]\n"
          ]
        },
        {
          "data": {
            "image/png": "[encoded data removed]",
            "text/plain": [
              "<Figure size 600x500 with 1 Axes>"
            ]
          },
          "metadata": {},
          "output_type": "display_data"
        }
      ],
      "source": [
        "# Prepare a numeric-only frame (drop NA for simplicity here)\n",
        "num_only = df_imp.select_dtypes(include=['number']).dropna()\n",
        "y = df_imp.loc[num_only.index, 'Survived'] if 'Survived' in df_imp.columns else None\n",
        "\n",
        "pca = PCA(n_components=2, random_state=42)\n",
        "Z = pca.fit_transform(num_only.values)\n",
        "\n",
        "print(\"Explained variance ratios:\", pca.explained_variance_ratio_)\n",
        "\n",
        "# Plot\n",
        "plt.figure(figsize=(6,5))\n",
        "if y is not None:\n",
        "    # Color by Survived (0/1). Using a simple split to avoid specifying colors.\n",
        "    idx0 = (y.values == 0)\n",
        "    idx1 = (y.values == 1)\n",
        "    plt.scatter(Z[idx0,0], Z[idx0,1], s=10, label='Survived=0')\n",
        "    plt.scatter(Z[idx1,0], Z[idx1,1], s=10, label='Survived=1')\n",
        "    plt.legend()\n",
        "else:\n",
        "    plt.scatter(Z[:,0], Z[:,1], s=10)\n",
        "plt.xlabel('PC1'); plt.ylabel('PC2'); plt.title('PCA (numeric only)')\n",
        "plt.show()"
      ]
    },
    {
      "cell_type": "markdown",
      "id": "ade92af5",
      "metadata": {
        "id": "ade92af5"
      },
      "source": [
        "**📝 Exercise 6**\n",
        "1) Which **two numeric columns** contribute the most variance before PCA (use `df.var()`)?  \n",
        "2) Try PCA with `n_components=3` and print the cumulative explained variance."
      ]
    },
    {
      "cell_type": "code",
      "execution_count": 32,
      "id": "8sc46rX0xmiG",
      "metadata": {
        "colab": {
          "base_uri": "https://localhost:8080/"
        },
        "id": "8sc46rX0xmiG",
        "outputId": "22549d40-7ff7-40ab-d23d-38c01974db82"
      },
      "outputs": [
        {
          "name": "stdout",
          "output_type": "stream",
          "text": [
            "Variance of numeric columns:\n",
            "PassengerId    66231.000000\n",
            "Fare            2469.436846\n",
            "Age              211.019125\n",
            "Age_median       169.512498\n",
            "Age_mean         169.052400\n",
            "SibSp              1.216043\n",
            "Fare_scaled        1.001124\n",
            "Pclass             0.699015\n",
            "Parch              0.649728\n",
            "Survived           0.236772\n",
            "dtype: float64\n",
            "\n",
            "Explained Variance Ratio:\n",
            "[0.95501    0.03577914 0.00804244]\n",
            "\n",
            "Cumulative Explained Variance:\n",
            "[0.95501    0.99078914 0.99883158]\n"
          ]
        }
      ],
      "source": [
        "import pandas as pd\n",
        "from sklearn.decomposition import PCA\n",
        "\n",
        "num_df = df.select_dtypes(include=['number'])\n",
        "\n",
        "\n",
        "print(\"Variance of numeric columns:\")\n",
        "print(num_df.var().sort_values(ascending=False))\n",
        "\n",
        "\n",
        "pca = PCA(n_components=3)\n",
        "pca.fit(num_df.fillna(0))\n",
        "\n",
        "print(\"\\nExplained Variance Ratio:\")\n",
        "print(pca.explained_variance_ratio_)\n",
        "\n",
        "print(\"\\nCumulative Explained Variance:\")\n",
        "print(pca.explained_variance_ratio_.cumsum())"
      ]
    },
    {
      "cell_type": "markdown",
      "id": "2d52dd9c",
      "metadata": {
        "id": "2d52dd9c"
      },
      "source": [
        "## 7) Consolidated Practice (No Pipelines Yet)\n",
        "\n",
        "Using the operations you've learned, perform a **clean preprocessing** (manually):\n",
        "1) Impute: `Age` (median), `Embarked` (mode), `Cabin` ('Unknown').  \n",
        "2) Scale: standardize `Age` and min-max scale `Fare`.  \n",
        "3) Encode: one-hot `Sex` and `Embarked`.  \n",
        "4) Transform: log1p `Fare`.  \n",
        "5) (Optional) PCA on numeric subset for 2D visualization.\n",
        "\n",
        "Then, answer:\n",
        "- Which step **changed the data distribution** the most?\n",
        "- Which encoding produced **more features**, ordinal or one-hot? Why?\n",
        "- If you trained a simple logistic regression on your manually processed features, what **accuracy** do you get on a 75/25 split? (Optional challenge)"
      ]
    },
    {
      "cell_type": "code",
      "execution_count": 33,
      "id": "zgvhmoTnxqzX",
      "metadata": {
        "colab": {
          "base_uri": "https://localhost:8080/"
        },
        "id": "zgvhmoTnxqzX",
        "outputId": "3ff27a9e-4c46-49c2-a073-4d41c6337bba"
      },
      "outputs": [
        {
          "name": "stdout",
          "output_type": "stream",
          "text": [
            "2D PCA projection shape: (891, 2)\n"
          ]
        },
        {
          "name": "stderr",
          "output_type": "stream",
          "text": [
            "C:\\Users\\VENKATA HEMANTH\\AppData\\Local\\Temp\\ipykernel_20232\\395260546.py:5: FutureWarning: A value is trying to be set on a copy of a DataFrame or Series through chained assignment using an inplace method.\n",
            "The behavior will change in pandas 3.0. This inplace method will never work because the intermediate object on which we are setting values always behaves as a copy.\n",
            "\n",
            "For example, when doing 'df[col].method(value, inplace=True)', try using 'df.method({col: value}, inplace=True)' or df[col] = df[col].method(value) instead, to perform the operation inplace on the original object.\n",
            "\n",
            "\n",
            "  df['Age'].fillna(df['Age'].median(), inplace=True)\n",
            "C:\\Users\\VENKATA HEMANTH\\AppData\\Local\\Temp\\ipykernel_20232\\395260546.py:6: FutureWarning: A value is trying to be set on a copy of a DataFrame or Series through chained assignment using an inplace method.\n",
            "The behavior will change in pandas 3.0. This inplace method will never work because the intermediate object on which we are setting values always behaves as a copy.\n",
            "\n",
            "For example, when doing 'df[col].method(value, inplace=True)', try using 'df.method({col: value}, inplace=True)' or df[col] = df[col].method(value) instead, to perform the operation inplace on the original object.\n",
            "\n",
            "\n",
            "  df['Embarked'].fillna(df['Embarked'].mode()[0], inplace=True)\n",
            "C:\\Users\\VENKATA HEMANTH\\AppData\\Local\\Temp\\ipykernel_20232\\395260546.py:7: FutureWarning: A value is trying to be set on a copy of a DataFrame or Series through chained assignment using an inplace method.\n",
            "The behavior will change in pandas 3.0. This inplace method will never work because the intermediate object on which we are setting values always behaves as a copy.\n",
            "\n",
            "For example, when doing 'df[col].method(value, inplace=True)', try using 'df.method({col: value}, inplace=True)' or df[col] = df[col].method(value) instead, to perform the operation inplace on the original object.\n",
            "\n",
            "\n",
            "  df['Cabin'].fillna('Unknown', inplace=True)\n"
          ]
        }
      ],
      "source": [
        "from sklearn.preprocessing import StandardScaler, MinMaxScaler, OneHotEncoder\n",
        "import numpy as np\n",
        "\n",
        "# 1) Impute missing values\n",
        "df['Age'].fillna(df['Age'].median(), inplace=True)\n",
        "df['Embarked'].fillna(df['Embarked'].mode()[0], inplace=True)\n",
        "df['Cabin'].fillna('Unknown', inplace=True)\n",
        "\n",
        "# 2) Scale\n",
        "scaler_std = StandardScaler()\n",
        "scaler_mm = MinMaxScaler()\n",
        "\n",
        "df['Age_std'] = scaler_std.fit_transform(df[['Age']])\n",
        "df['Fare_mm'] = scaler_mm.fit_transform(df[['Fare']])\n",
        "\n",
        "# 3) Encode categorical\n",
        "df = pd.get_dummies(df, columns=['Sex','Embarked'], drop_first=True)\n",
        "\n",
        "# 4) Transform Fare (log1p to handle zeros)\n",
        "df['Fare_log'] = np.log1p(df['Fare'])\n",
        "\n",
        "# 5) Optional PCA on numeric subset (for 2D visualization)\n",
        "numeric_subset = df.select_dtypes(include=['number']).dropna(axis=1)\n",
        "pca2 = PCA(n_components=2)\n",
        "proj = pca2.fit_transform(numeric_subset)\n",
        "\n",
        "print(\"2D PCA projection shape:\", proj.shape)\n"
      ]
    },
    {
      "cell_type": "markdown",
      "id": "6e7413b3",
      "metadata": {
        "id": "6e7413b3"
      },
      "source": [
        "## ✅ What You Should Take Away from Part A\n",
        "\n",
        "- Each step (imputation, scaling, encoding, transforms) has a **clear purpose** and **visible effect**.  \n",
        "- You can now apply them **manually** and reason about their impact.  \n",
        "- Next: move to **Part B (Pipelines)** to **combine & automate** these steps safely (avoid leakage, enable cross-validation, and reproducibility)."
      ]
    },
    {
      "cell_type": "code",
      "execution_count": 34,
      "id": "gP1BSiwNyD4h",
      "metadata": {
        "id": "gP1BSiwNyD4h"
      },
      "outputs": [],
      "source": [
        "\n",
        "if 'Age' in df.columns:\n",
        "    df['Age'] = df['Age'].fillna(df['Age'].median())\n",
        "\n",
        "if 'Embarked' in df.columns:\n",
        "    df['Embarked'] = df['Embarked'].fillna(df['Embarked'].mode()[0])\n",
        "\n",
        "\n",
        "if 'Cabin' in df.columns:\n",
        "    df['Cabin'] = df['Cabin'].fillna('Unknown')\n"
      ]
    }
  ],
  "metadata": {
    "colab": {
      "provenance": []
    },
    "kernelspec": {
      "display_name": "Python 3",
      "language": "python",
      "name": "python3"
    },
    "language_info": {
      "codemirror_mode": {
        "name": "ipython",
        "version": 3
      },
      "file_extension": ".py",
      "mimetype": "text/x-python",
      "name": "python",
      "nbconvert_exporter": "python",
      "pygments_lexer": "ipython3",
      "version": "3.13.3"
    }
  },
  "nbformat": 4,
  "nbformat_minor": 5
}
