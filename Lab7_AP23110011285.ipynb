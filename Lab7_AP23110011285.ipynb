{
  "nbformat": 4,
  "nbformat_minor": 0,
  "metadata": {
    "colab": {
      "provenance": []
    },
    "kernelspec": {
      "name": "python3",
      "display_name": "Python 3"
    },
    "language_info": {
      "name": "python"
    }
  },
  "cells": [
    {
      "cell_type": "code",
      "execution_count": null,
      "metadata": {
        "id": "vIjkh0vuOWxf"
      },
      "outputs": [],
      "source": [
        "import numpy as np\n",
        "import pandas as pd\n",
        "import matplotlib.pyplot as plt\n",
        "import gdown\n",
        "import os\n",
        "from collections import Counter"
      ]
    },
    {
      "cell_type": "code",
      "source": [
        "gdown_id = \"1ZdhRqYv-JizWV6DxO6C4R_k1kxPhmlF2\"\n",
        "output_csv = \"dataset.csv\"\n",
        "\n",
        "if not os.path.exists(output_csv):\n",
        "  url = f\"https://drive.google.com/uc?id={gdown_id}\"\n",
        "  gdown.download(url,output_csv,quiet=False)\n",
        "\n",
        "df = pd.read_csv(output_csv)\n",
        "print(df.head())\n",
        "print(df.shape)\n",
        "print(df.info())\n",
        "print(df.describe())\n",
        "\n",
        "\n"
      ],
      "metadata": {
        "colab": {
          "base_uri": "https://localhost:8080/"
        },
        "id": "ITswH4U0PM1R",
        "outputId": "17e054da-560b-4389-b702-2fe42f7399a5"
      },
      "execution_count": null,
      "outputs": [
        {
          "output_type": "stream",
          "name": "stdout",
          "text": [
            "   Region  Fresh  Milk  Grocery  Frozen  Detergents_Paper  Delicassen  class\n",
            "0       3  12669  9656     7561     214              2674        1338      2\n",
            "1       3   7057  9810     9568    1762              3293        1776      2\n",
            "2       3   6353  8808     7684    2405              3516        7844      2\n",
            "3       3  13265  1196     4221    6404               507        1788      1\n",
            "4       3  22615  5410     7198    3915              1777        5185      1\n",
            "(440, 8)\n",
            "<class 'pandas.core.frame.DataFrame'>\n",
            "RangeIndex: 440 entries, 0 to 439\n",
            "Data columns (total 8 columns):\n",
            " #   Column            Non-Null Count  Dtype\n",
            "---  ------            --------------  -----\n",
            " 0   Region            440 non-null    int64\n",
            " 1   Fresh             440 non-null    int64\n",
            " 2   Milk              440 non-null    int64\n",
            " 3   Grocery           440 non-null    int64\n",
            " 4   Frozen            440 non-null    int64\n",
            " 5   Detergents_Paper  440 non-null    int64\n",
            " 6   Delicassen        440 non-null    int64\n",
            " 7   class             440 non-null    int64\n",
            "dtypes: int64(8)\n",
            "memory usage: 27.6 KB\n",
            "None\n",
            "           Region          Fresh          Milk       Grocery        Frozen  \\\n",
            "count  440.000000     440.000000    440.000000    440.000000    440.000000   \n",
            "mean     2.543182   12000.297727   5796.265909   7951.277273   3071.931818   \n",
            "std      0.774272   12647.328865   7380.377175   9503.162829   4854.673333   \n",
            "min      1.000000       3.000000     55.000000      3.000000     25.000000   \n",
            "25%      2.000000    3127.750000   1533.000000   2153.000000    742.250000   \n",
            "50%      3.000000    8504.000000   3627.000000   4755.500000   1526.000000   \n",
            "75%      3.000000   16933.750000   7190.250000  10655.750000   3554.250000   \n",
            "max      3.000000  112151.000000  73498.000000  92780.000000  60869.000000   \n",
            "\n",
            "       Detergents_Paper    Delicassen       class  \n",
            "count        440.000000    440.000000  440.000000  \n",
            "mean        2881.493182   1524.870455    2.195455  \n",
            "std         4767.854448   2820.105937    0.744289  \n",
            "min            3.000000      3.000000    1.000000  \n",
            "25%          256.750000    408.250000    2.000000  \n",
            "50%          816.500000    965.500000    2.000000  \n",
            "75%         3922.000000   1820.250000    3.000000  \n",
            "max        40827.000000  47943.000000    3.000000  \n"
          ]
        }
      ]
    },
    {
      "cell_type": "code",
      "source": [
        "print(df.isnull().sum())\n",
        "df.fillna(df.mean(), inplace=True)  # numeric\n",
        "df.fillna(df.mode().iloc[0], inplace=True)  # categorical\n"
      ],
      "metadata": {
        "colab": {
          "base_uri": "https://localhost:8080/"
        },
        "id": "Hbe7SXqJVzzo",
        "outputId": "c96fb914-9669-4884-de87-ad32e9587cf5"
      },
      "execution_count": null,
      "outputs": [
        {
          "output_type": "stream",
          "name": "stdout",
          "text": [
            "Region              0\n",
            "Fresh               0\n",
            "Milk                0\n",
            "Grocery             0\n",
            "Frozen              0\n",
            "Detergents_Paper    0\n",
            "Delicassen          0\n",
            "class               0\n",
            "dtype: int64\n"
          ]
        }
      ]
    },
    {
      "cell_type": "code",
      "source": [
        "\n",
        "\n",
        "X = df.drop(columns=\"class\").values\n",
        "y = df[\"class\"].values\n",
        "\n",
        "\n",
        "X_train, X_test, y_train, y_test = train_test_split(X, y, test_size=0.2, random_state=42)\n",
        "\n",
        "\n",
        "def knn_predict(X_train, y_train, X_test, k=5):\n",
        "    y_pred = []\n",
        "    for test_point in X_test:\n",
        "\n",
        "        distances = np.linalg.norm(X_train - test_point, axis=1)\n",
        "\n",
        "        k_indices = np.argsort(distances)[:k]\n",
        "\n",
        "        k_labels = y_train[k_indices]\n",
        "\n",
        "        values, counts = np.unique(k_labels, return_counts=True)\n",
        "        y_pred.append(values[np.argmax(counts)])\n",
        "    return np.array(y_pred)\n",
        "\n",
        "\n",
        "y_pred = knn_predict(X_train, y_train, X_test, k=5)\n",
        "print(\"Scratch KNN Accuracy:\", accuracy_score(y_test, y_pred))"
      ],
      "metadata": {
        "colab": {
          "base_uri": "https://localhost:8080/"
        },
        "id": "0BtWQVIrZE9E",
        "outputId": "959263b9-e016-41d3-e34c-2352479ab3b6"
      },
      "execution_count": null,
      "outputs": [
        {
          "output_type": "stream",
          "name": "stdout",
          "text": [
            "Scratch KNN Accuracy: 0.9204545454545454\n"
          ]
        }
      ]
    },
    {
      "cell_type": "code",
      "source": [
        "from sklearn.model_selection import GridSearchCV\n",
        "\n",
        "param_grid = {'n_neighbors': np.arange(1, 21)}\n",
        "grid = GridSearchCV(KNeighborsClassifier(), param_grid, cv=5)\n",
        "grid.fit(X_train, y_train)\n",
        "\n",
        "print(\"Best k:\", grid.best_params_)\n",
        "print(\"Best CV Score:\", grid.best_score_)"
      ],
      "metadata": {
        "colab": {
          "base_uri": "https://localhost:8080/"
        },
        "id": "yYJSFY7vZxaJ",
        "outputId": "63c710f3-a3c2-4e98-c5ef-360d2099f919"
      },
      "execution_count": null,
      "outputs": [
        {
          "output_type": "stream",
          "name": "stdout",
          "text": [
            "Best k: {'n_neighbors': np.int64(8)}\n",
            "Best CV Score: 0.9148088531187122\n"
          ]
        }
      ]
    },
    {
      "cell_type": "code",
      "source": [
        "from sklearn.neighbors import KNeighborsClassifier\n",
        "from sklearn.model_selection import train_test_split\n",
        "from sklearn.preprocessing import StandardScaler\n",
        "from sklearn.metrics import accuracy_score\n",
        "\n",
        "knn = KNeighborsClassifier(n_neighbors=5)\n",
        "\n",
        "knn.fit(X_train, y_train)\n",
        "\n",
        "y_pred = knn.predict(X_test)\n",
        "\n",
        "\n",
        "print(\"Accuracy:\", accuracy_score(y_test, y_pred))\n",
        "\n"
      ],
      "metadata": {
        "colab": {
          "base_uri": "https://localhost:8080/"
        },
        "id": "-Q6QqlnZRNc4",
        "outputId": "8fc0972e-ecdb-4b04-9d57-a04a042665a1"
      },
      "execution_count": null,
      "outputs": [
        {
          "output_type": "stream",
          "name": "stdout",
          "text": [
            "Accuracy: 0.9204545454545454\n"
          ]
        }
      ]
    }
  ]
}